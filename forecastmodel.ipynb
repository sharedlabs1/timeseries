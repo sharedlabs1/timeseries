import pandas as pd
import matplotlib.pyplot as plt
from statsmodels.tsa.arima.model import ARIMA

# Load sample time series data (e.g., monthly airline passengers)
url = 'https://raw.githubusercontent.com/jbrownlee/Datasets/master/airline-passengers.csv'
data = pd.read_csv(url, parse_dates=['Month'], index_col='Month')
data.columns = ['Passengers']

# Plot the original data
plt.figure(figsize=(10, 5))
plt.plot(data, label="Monthly Passengers")
plt.title("Airline Passengers Over Time")
plt.xlabel("Date")
plt.ylabel("Number of Passengers")
plt.legend()
plt.show()

# Fit an ARIMA model (choose order based on testing or prior knowledge)
model = ARIMA(data['Passengers'], order=(1, 1, 1))  # p, d, q values
arima_model = model.fit()

# Print model summary
print(arima_model.summary())

# Forecast the next 12 months
forecast = arima_model.forecast(steps=12)

# Plot the original data and forecast
plt.figure(figsize=(10, 5))
plt.plot(data, label="Original Data")
plt.plot(forecast, label="Forecast", linestyle='--', color='red')
plt.title("ARIMA Model Forecast")
plt.xlabel("Date")
plt.ylabel("Passengers")
plt.legend()
plt.show()
